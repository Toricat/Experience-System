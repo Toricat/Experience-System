{
 "cells": [
  {
   "cell_type": "code",
   "execution_count": 2,
   "metadata": {},
   "outputs": [
    {
     "name": "stdout",
     "output_type": "stream",
     "text": [
      "hello \n",
      " \n",
      "abc\n",
      "xyz\n",
      " \n",
      "hello  \n",
      "abc\n",
      "xyz\n",
      " \n",
      "hello đây nội dung text : \n",
      "abc\n",
      "xyz\n",
      " \n"
     ]
    }
   ],
   "source": [
    "print(\"hello\")\n",
    "\n",
    "text = \"\"\" \n",
    "abc\n",
    "xyz\n",
    " \"\"\"\n",
    "print(text)\n",
    "\n",
    "print(\"hello\", text)\n",
    "print(f\"hello đây nội dung text :{text}\")"
   ]
  },
  {
   "cell_type": "code",
   "execution_count": 3,
   "metadata": {},
   "outputs": [],
   "source": [
    "a = 3\n",
    "b = 2 \n",
    "c,d = 3,4"
   ]
  },
  {
   "cell_type": "code",
   "execution_count": 1,
   "metadata": {},
   "outputs": [
    {
     "name": "stdout",
     "output_type": "stream",
     "text": [
      "4\n",
      "0\n",
      "1.0\n",
      "4\n",
      "4\n",
      "0\n",
      "1\n",
      "1\n",
      "2\n",
      "4\n",
      "6\n",
      "1\n",
      "10\n",
      "(2, 1)\n"
     ]
    }
   ],
   "source": [
    "a = 2\n",
    "b = 2 \n",
    "# Biểu thức tính toán (toán tử):\n",
    "print(a + b)\n",
    "print(a - b)\n",
    "print(a / b)\n",
    "print(a * b)\n",
    "print(a ** b)\n",
    "print(a % b)\n",
    "print(a // b)\n",
    "# bonus\n",
    "print(round(a/3))\n",
    "print(abs(-b))\n",
    "print(pow(a,b))\n",
    "print(max(a,b,3,4,5,6))\n",
    "print(min(1,2,3,4))\n",
    "print(sum((1,2,3,4)))\n",
    "print(divmod(7, 3)) "
   ]
  },
  {
   "cell_type": "code",
   "execution_count": 9,
   "metadata": {},
   "outputs": [
    {
     "name": "stdout",
     "output_type": "stream",
     "text": [
      "True\n",
      "False\n",
      "True\n",
      "False\n",
      "True\n",
      "False\n",
      "True\n",
      "True\n",
      "True\n",
      "True\n"
     ]
    }
   ],
   "source": [
    "# toán tử so sánh:\n",
    "print(a > b)       \n",
    "print(a < b)        \n",
    "print(b <= a)    \n",
    "print(a == b)    \n",
    "print(a != b)    \n",
    "# bonus\n",
    "print( a is not a)\n",
    "print( a is not None)\n",
    "print(isinstance(a, int))\n",
    "print(all([True, True]))  \n",
    "print(any([False, True])) "
   ]
  },
  {
   "cell_type": "code",
   "execution_count": 5,
   "metadata": {},
   "outputs": [
    {
     "name": "stdout",
     "output_type": "stream",
     "text": [
      "1.7320508075688772\n",
      "3.141592653589793\n",
      "2.718281828459045\n",
      "1.0986122886681098\n",
      "1.5849625007211563\n",
      "True\n",
      "171.88733853924697\n",
      "0.05235987755982989\n",
      "0.1411200080598672\n",
      "-0.9899924966004454\n",
      "-0.1425465430742778\n"
     ]
    }
   ],
   "source": [
    "import math\n",
    "#Biểu thức toán học\n",
    "print(math.sqrt(a))\n",
    "print(math.pi)\n",
    "print(math.e)\n",
    "print(math.log(a))\n",
    "print(math.log(a,b))\n",
    "print(math.inf > a)\n",
    "#Biểu thức lượng giác\n",
    "print(math.degrees(a))\n",
    "print(math.radians(a))\n",
    "print(math.sin(a))\n",
    "print(math.cos(a))\n",
    "print(math.tan(a))\n"
   ]
  },
  {
   "cell_type": "code",
   "execution_count": 6,
   "metadata": {},
   "outputs": [
    {
     "name": "stdout",
     "output_type": "stream",
     "text": [
      "<class 'int'>\n",
      "<class 'float'>\n",
      "<class 'complex'>\n",
      "<class 'str'>\n",
      "<class 'list'>\n",
      "<class 'dict'>\n",
      "<class 'set'>\n",
      "<class 'tuple'>\n",
      "<class 'bool'>\n",
      "<class 'NoneType'>\n",
      "<class 'range'>\n",
      "<class 'frozenset'>\n",
      "<class 'module'>\n",
      "<class 'builtin_function_or_method'>\n"
     ]
    }
   ],
   "source": [
    "# 10 kiểu dữ liệu cơ bản trong python\n",
    "print(type(10))                  # Int\n",
    "print(type(3.14))                # Float\n",
    "print(type(1 + 3j))              # Complex\n",
    "print(type('Asabeneh'))          # String\n",
    "print(type([1, 2, 3]))           # List\n",
    "print(type({'name':'Asabeneh'})) # Dictionary\n",
    "print(type({9.8, 3.14, 2.7}))    # Set\n",
    "print(type((9.8, 3.14, 2.7)))    # Tuple\n",
    "print(type(3 == 3))              # Bool\n",
    "print(type(None))                # None\n",
    "\n",
    "\n",
    "#bonus\n",
    "print(type(range(1,3)))          # Range\n",
    "print(type(frozenset({1,2,3,4})))\n",
    "print(type(math))\n",
    "print(type(len))\n",
    "\n"
   ]
  },
  {
   "cell_type": "code",
   "execution_count": null,
   "metadata": {},
   "outputs": [],
   "source": [
    "#Hàm chức năng\n",
    "# #  print(), len(), type(), int(), float(), str(), input(), list(), dict(), min(), max(), sum(), sorted(), open(), file(), help(), and dir(). .. "
   ]
  },
  {
   "cell_type": "code",
   "execution_count": null,
   "metadata": {},
   "outputs": [],
   "source": [
    "f = open('file.txt', 'r')  \n",
    "name = input(\"Your name: \")"
   ]
  },
  {
   "cell_type": "code",
   "execution_count": 13,
   "metadata": {},
   "outputs": [
    {
     "name": "stdout",
     "output_type": "stream",
     "text": [
      "3\n",
      "3.0\n",
      "42\n",
      "False\n",
      "['a', 'b', 'c']\n",
      "(1, 2, 3)\n",
      "{1, 2}\n",
      "{1: 'a', 2: 'b'}\n"
     ]
    }
   ],
   "source": [
    "print(int(3.14))          \n",
    "print(float(3))           \n",
    "print(str(42))          \n",
    "print(bool(0))            \n",
    "print(list(\"abc\"))      \n",
    "print(tuple([1, 2, 3]))   \n",
    "print(set([1, 2, 2]))     \n",
    "print(dict([(1, 'a'), (2, 'b')]))  "
   ]
  },
  {
   "cell_type": "code",
   "execution_count": 15,
   "metadata": {},
   "outputs": [
    {
     "name": "stdout",
     "output_type": "stream",
     "text": [
      "[(0, 'a'), (1, 'b')]\n",
      "[(1, 'a'), (2, 'b')]\n"
     ]
    }
   ],
   "source": [
    "print(list(enumerate(['a', 'b'])))   \n",
    "print(list(zip([1, 2], ['a', 'b'])))"
   ]
  },
  {
   "cell_type": "code",
   "execution_count": null,
   "metadata": {},
   "outputs": [],
   "source": [
    "print(list(reversed([1, 2, 3]))) "
   ]
  },
  {
   "cell_type": "code",
   "execution_count": 19,
   "metadata": {},
   "outputs": [
    {
     "name": "stdout",
     "output_type": "stream",
     "text": [
      "1\n",
      "[3]\n",
      "[1, 4, 9]\n"
     ]
    }
   ],
   "source": [
    "it = iter([1, 2, 3])       \n",
    "print(next(it))             \n",
    "print(list(filter(lambda x: x > 2, [1, 2, 3]))) \n",
    "print(list(map(lambda x: x**2, [1, 2, 3])))   "
   ]
  },
  {
   "cell_type": "code",
   "execution_count": 18,
   "metadata": {},
   "outputs": [
    {
     "name": "stdout",
     "output_type": "stream",
     "text": [
      "65\n",
      "A\n",
      "3.14\n"
     ]
    }
   ],
   "source": [
    "print(ord('A'))           # Mã Unicode của ký tự 'A': 65\n",
    "print(chr(65))            # Ký tự từ mã Unicode 65: 'A'\n",
    "print(format(3.14, '.2f'))  # Định dạng chuỗi: '3.14'"
   ]
  },
  {
   "cell_type": "code",
   "execution_count": 20,
   "metadata": {},
   "outputs": [
    {
     "name": "stdout",
     "output_type": "stream",
     "text": [
      "6\n",
      "3\n",
      "140718105246424\n",
      "2719123957177290914\n",
      "Help on built-in function print in module builtins:\n",
      "\n",
      "print(*args, sep=' ', end='\\n', file=None, flush=False)\n",
      "    Prints the values to a stream, or to sys.stdout by default.\n",
      "\n",
      "    sep\n",
      "      string inserted between values, default a space.\n",
      "    end\n",
      "      string appended after the last value, default a newline.\n",
      "    file\n",
      "      a file-like object (stream); defaults to the current sys.stdout.\n",
      "    flush\n",
      "      whether to forcibly flush the stream.\n",
      "\n"
     ]
    }
   ],
   "source": [
    "from functools import reduce\n",
    "print(reduce(lambda x, y: x + y, [1, 2, 3]))     \n",
    "\n",
    "print(eval('1 + 2'))        \n",
    "exec(\"x = 5\")               \n",
    "# print(x)                  \n",
    "\n",
    "print(id(10))              \n",
    "print(hash('a'))            \n",
    "help(print)  "
   ]
  },
  {
   "cell_type": "code",
   "execution_count": 17,
   "metadata": {},
   "outputs": [
    {
     "name": "stdout",
     "output_type": "stream",
     "text": [
      "65\n",
      "A\n",
      "3.14\n"
     ]
    }
   ],
   "source": [
    "if else: "
   ]
  }
 ],
 "metadata": {
  "kernelspec": {
   "display_name": "study",
   "language": "python",
   "name": "python3"
  },
  "language_info": {
   "codemirror_mode": {
    "name": "ipython",
    "version": 3
   },
   "file_extension": ".py",
   "mimetype": "text/x-python",
   "name": "python",
   "nbconvert_exporter": "python",
   "pygments_lexer": "ipython3",
   "version": "3.12.7"
  }
 },
 "nbformat": 4,
 "nbformat_minor": 2
}
